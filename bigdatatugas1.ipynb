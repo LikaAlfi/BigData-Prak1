{
  "nbformat": 4,
  "nbformat_minor": 0,
  "metadata": {
    "colab": {
      "provenance": [],
      "authorship_tag": "ABX9TyORZAgEpssrfHSdT57hBERY",
      "include_colab_link": true
    },
    "kernelspec": {
      "name": "python3",
      "display_name": "Python 3"
    },
    "language_info": {
      "name": "python"
    }
  },
  "cells": [
    {
      "cell_type": "markdown",
      "metadata": {
        "id": "view-in-github",
        "colab_type": "text"
      },
      "source": [
        "<a href=\"https://colab.research.google.com/github/LikaAlfi/BigData-Prak1/blob/main/bigdatatugas1.ipynb\" target=\"_parent\"><img src=\"https://colab.research.google.com/assets/colab-badge.svg\" alt=\"Open In Colab\"/></a>"
      ]
    },
    {
      "cell_type": "code",
      "execution_count": 69,
      "metadata": {
        "colab": {
          "base_uri": "https://localhost:8080/"
        },
        "id": "WvZQr3pYhD94",
        "outputId": "3715bd16-c2e9-4596-be51-d805adcd5e04"
      },
      "outputs": [
        {
          "output_type": "stream",
          "name": "stdout",
          "text": [
            "+-----+----+---------+---------+---------+\n",
            "| Nama|Usia|Pekerjaan|     Hobi|   Gender|\n",
            "+-----+----+---------+---------+---------+\n",
            "| Jeve|  35|Pengacara|  Membaca|Perempuan|\n",
            "| Jaga|  25|  Mekanik|   Gaming|Laki-laki|\n",
            "|   El|  28|    Dosen|Traveling|Perempuan|\n",
            "|Dario|  31|  Arsitek|   Gaming|Laki-laki|\n",
            "| Lika|  19|Mahasiswa|  Membaca|Perempuan|\n",
            "+-----+----+---------+---------+---------+\n",
            "\n"
          ]
        }
      ],
      "source": [
        "# Tugas 1\n",
        "from pyspark.sql import SparkSession\n",
        "\n",
        "# Memulai Spark session\n",
        "spark = SparkSession.builder.appName(\"BigDataPractice\").getOrCreate()\n",
        "\n",
        "# Membuat DataFrame dengan tambahan kolom pekerjaan, hobi, dan gender\n",
        "data = [\n",
        "    (\"Jeve\", 35, \"Pengacara\", \"Membaca\", \"Perempuan\"),\n",
        "    (\"Jaga\", 25, \"Mekanik\", \"Gaming\", \"Laki-laki\"),\n",
        "    (\"El\", 28, \"Dosen\", \"Traveling\", \"Perempuan\"),\n",
        "    (\"Dario\", 31, \"Arsitek\", \"Gaming\", \"Laki-laki\"),\n",
        "    (\"Lika\", 19, \"Mahasiswa\", \"Membaca\", \"Perempuan\")\n",
        "]\n",
        "\n",
        "columns = [\"Nama\", \"Usia\", \"Pekerjaan\", \"Hobi\", \"Gender\"]\n",
        "\n",
        "# Membuat DataFrame\n",
        "df = spark.createDataFrame(data, columns)\n",
        "\n",
        "# Menampilkan DataFrame\n",
        "df.show()\n"
      ]
    },
    {
      "cell_type": "code",
      "source": [
        "# Tugas 2\n",
        "from pyspark.sql import SparkSession\n",
        "from pyspark.sql.functions import avg\n",
        "\n",
        "# Memulai Spark session\n",
        "spark = SparkSession.builder.appName(\"PySparkManipulasi\").getOrCreate()\n",
        "\n",
        "# Membuat DataFrame dengan beberapa kolom\n",
        "data = [\n",
        "    (\"Jeve\", 35, \"Pengacara\", \"Membaca\", \"Perempuan\"),\n",
        "    (\"Jaga\", 25, \"Mekanik\", \"Gaming\", \"Laki-laki\"),\n",
        "    (\"El\", 28, \"Dosen\", \"Traveling\", \"Perempuan\"),\n",
        "    (\"Dario\", 31, \"Arsitek\", \"Gaming\", \"Laki-laki\"),\n",
        "    (\"Lika\", 19, \"Mahasiswa\", \"Membaca\", \"Perempuan\")\n",
        "]\n",
        "\n",
        "columns = [\"Nama\", \"Usia\", \"Pekerjaan\", \"Hobi\", \"Gender\"]\n",
        "df = spark.createDataFrame(data, columns)\n",
        "\n",
        "# Menampilkan DataFrame asli\n",
        "print(\"~~~ DataFrame Asli ~~~\")\n",
        "df.show()\n",
        "\n",
        "# Filtering data (usia > 25)\n",
        "print(\"~~~ Filter: Usia > 25 ~~~\")\n",
        "df_filtered = df.filter(df[\"Usia\"] > 25)\n",
        "df_filtered.show()\n",
        "\n",
        "# Menghitung rata-rata usia\n",
        "print(\"~~ Rata-rata Usia ~~\")\n",
        "df.groupBy().agg(avg(\"Usia\")).show()\n",
        "\n",
        "# Mengurutkan data berdasarkan usia (descending)\n",
        "print(\"~ Urutkan berdasarkan Usia (desc) ~\")\n",
        "df_sorted = df.orderBy(\"Usia\", ascending=False)\n",
        "df_sorted.show()\n"
      ],
      "metadata": {
        "colab": {
          "base_uri": "https://localhost:8080/"
        },
        "id": "Hh2C_0DailJX",
        "outputId": "bd84a0fa-d568-4033-d87b-1376c4ce24fa"
      },
      "execution_count": 71,
      "outputs": [
        {
          "output_type": "stream",
          "name": "stdout",
          "text": [
            "~~~ DataFrame Asli ~~~\n",
            "+-----+----+---------+---------+---------+\n",
            "| Nama|Usia|Pekerjaan|     Hobi|   Gender|\n",
            "+-----+----+---------+---------+---------+\n",
            "| Jeve|  35|Pengacara|  Membaca|Perempuan|\n",
            "| Jaga|  25|  Mekanik|   Gaming|Laki-laki|\n",
            "|   El|  28|    Dosen|Traveling|Perempuan|\n",
            "|Dario|  31|  Arsitek|   Gaming|Laki-laki|\n",
            "| Lika|  19|Mahasiswa|  Membaca|Perempuan|\n",
            "+-----+----+---------+---------+---------+\n",
            "\n",
            "~~~ Filter: Usia > 25 ~~~\n",
            "+-----+----+---------+---------+---------+\n",
            "| Nama|Usia|Pekerjaan|     Hobi|   Gender|\n",
            "+-----+----+---------+---------+---------+\n",
            "| Jeve|  35|Pengacara|  Membaca|Perempuan|\n",
            "|   El|  28|    Dosen|Traveling|Perempuan|\n",
            "|Dario|  31|  Arsitek|   Gaming|Laki-laki|\n",
            "+-----+----+---------+---------+---------+\n",
            "\n",
            "~~ Rata-rata Usia ~~\n",
            "+---------+\n",
            "|avg(Usia)|\n",
            "+---------+\n",
            "|     27.6|\n",
            "+---------+\n",
            "\n",
            "~ Urutkan berdasarkan Usia (desc) ~\n",
            "+-----+----+---------+---------+---------+\n",
            "| Nama|Usia|Pekerjaan|     Hobi|   Gender|\n",
            "+-----+----+---------+---------+---------+\n",
            "| Jeve|  35|Pengacara|  Membaca|Perempuan|\n",
            "|Dario|  31|  Arsitek|   Gaming|Laki-laki|\n",
            "|   El|  28|    Dosen|Traveling|Perempuan|\n",
            "| Jaga|  25|  Mekanik|   Gaming|Laki-laki|\n",
            "| Lika|  19|Mahasiswa|  Membaca|Perempuan|\n",
            "+-----+----+---------+---------+---------+\n",
            "\n"
          ]
        }
      ]
    },
    {
      "cell_type": "code",
      "source": [
        "# Tugas 3\n",
        "import pandas as pd\n",
        "\n",
        "# Membuat DataFrame Pandas\n",
        "data_pandas = {\n",
        "    \"Nama\": [\"Jaga\", \"Jeve\", \"Dario\", \"El\", \"Lika\"],\n",
        "    \"Usia\": [25, 35, 31, 28, 19],\n",
        "}\n",
        "\n",
        "df_pandas = pd.DataFrame(data_pandas)\n",
        "\n",
        "print(\"--- DataFrame Asli ---\")\n",
        "print(df_pandas)\n",
        "\n",
        "# Menambahkan kolom baru: TB dan BB\n",
        "df_pandas[\"Tinggi Badan\"] = [180, 175, 178, 176, 160]\n",
        "df_pandas[\"Berat Badan\"] = [70, 65, 72, 67, 45]\n",
        "\n",
        "print(\"\\n-- DataFrame Setelah Ditambah Kolom Baru --\")\n",
        "print(df_pandas)\n",
        "\n",
        "# Filtering: Tinggi Badan > 170\n",
        "df_filtered = df_pandas[df_pandas[\"Tinggi Badan\"] < 170]\n",
        "\n",
        "print(\"\\n=== Filter: Tinggi Badan > 170\")\n",
        "print(df_filtered)\n",
        "\n",
        "# mengUrutkan berdasarkan Berat Badan descending\n",
        "df_sorted = df_pandas.sort_values(by=\"Berat Badan\", ascending=False)\n",
        "\n",
        "print(\"\\n~- Urutkan Berdasarkan Berat Badan (desc) -~\")\n",
        "print(df_sorted)\n"
      ],
      "metadata": {
        "colab": {
          "base_uri": "https://localhost:8080/"
        },
        "id": "q5iS0uCBkoWi",
        "outputId": "fc2c30f4-68b6-440c-e1db-177869421bf3"
      },
      "execution_count": 73,
      "outputs": [
        {
          "output_type": "stream",
          "name": "stdout",
          "text": [
            "--- DataFrame Asli ---\n",
            "    Nama  Usia\n",
            "0   Jaga    25\n",
            "1   Jeve    35\n",
            "2  Dario    31\n",
            "3     El    28\n",
            "4   Lika    19\n",
            "\n",
            "-- DataFrame Setelah Ditambah Kolom Baru --\n",
            "    Nama  Usia  Tinggi Badan  Berat Badan\n",
            "0   Jaga    25           180           70\n",
            "1   Jeve    35           175           65\n",
            "2  Dario    31           178           72\n",
            "3     El    28           176           67\n",
            "4   Lika    19           160           45\n",
            "\n",
            "=== Filter: Tinggi Badan > 170\n",
            "   Nama  Usia  Tinggi Badan  Berat Badan\n",
            "4  Lika    19           160           45\n",
            "\n",
            "~- Urutkan Berdasarkan Berat Badan (desc) -~\n",
            "    Nama  Usia  Tinggi Badan  Berat Badan\n",
            "2  Dario    31           178           72\n",
            "0   Jaga    25           180           70\n",
            "3     El    28           176           67\n",
            "1   Jeve    35           175           65\n",
            "4   Lika    19           160           45\n"
          ]
        }
      ]
    },
    {
      "cell_type": "code",
      "source": [
        "# Tugas 4\n",
        "import pandas as pd\n",
        "import matplotlib.pyplot as plt\n",
        "\n",
        "# Membuat DataFrame pertama\n",
        "data_pandas = {\n",
        "    \"Nama\": [\"Jaga\", \"Jeve\", \"Dario\", \"El\", \"Lika\"],\n",
        "    \"Usia\": [25, 35, 31, 28, 19],\n",
        "}\n",
        "df_pandas = pd.DataFrame(data_pandas)\n",
        "\n",
        "# Membuat DataFrame kedua\n",
        "data_pandas_2 = {\n",
        "    \"Nama\": [\"Jaga\", \"Jeve\", \"Dario\", \"El\", \"Lika\"],\n",
        "    \"Tinggi Badan\": [180, 175, 178, 176, 160],\n",
        "    \"Berat Badan\": [70, 65, 72, 67, 45]\n",
        "}\n",
        "df_pandas_2 = pd.DataFrame(data_pandas_2)\n",
        "\n",
        "# 1. Join (gabungkan) kedua DataFrame berdasarkan kolom \"Nama\"\n",
        "df_joined = pd.merge(df_pandas, df_pandas_2, on=\"Nama\")\n",
        "print(\"=== DataFrame Hasil Join ===\")\n",
        "print(df_joined)\n",
        "\n",
        "# 2. Menghitung statistik deskriptif\n",
        "print(\"\\n=== Statistik Deskriptif ===\")\n",
        "print(df_joined.describe())\n",
        "\n",
        "# 3. Visualisasi data (Plot usia dalam bentuk bar chart)\n",
        "df_joined.plot(x=\"Nama\", y=\"Usia\", kind=\"bar\", color=\"skyblue\", legend=False)\n",
        "plt.title(\"Usia Setiap Orang\")\n",
        "plt.xlabel(\"Nama\")\n",
        "plt.ylabel(\"Usia\")\n",
        "plt.show()\n",
        "\n",
        "# 4. Visualisasi data (Plot tinggi badan dalam bentuk bar chart)\n",
        "df_joined.plot(x=\"Nama\", y=\"Tinggi Badan\", kind=\"bar\", color=\"orange\", legend=False)\n",
        "plt.title(\"Tinggi Badan Setiap Orang\")\n",
        "plt.xlabel(\"Nama\")\n",
        "plt.ylabel(\"Tinggi Badan (cm)\")\n",
        "plt.show()\n"
      ],
      "metadata": {
        "colab": {
          "base_uri": "https://localhost:8080/",
          "height": 1000
        },
        "id": "TO07cVzSn-Jj",
        "outputId": "a5dd3dda-b38b-4394-c70d-c76523054155"
      },
      "execution_count": 61,
      "outputs": [
        {
          "output_type": "stream",
          "name": "stdout",
          "text": [
            "=== DataFrame Hasil Join ===\n",
            "    Nama  Usia  Tinggi Badan  Berat Badan\n",
            "0   Jaga    25           180           70\n",
            "1   Jeve    35           175           65\n",
            "2  Dario    31           178           72\n",
            "3     El    28           176           67\n",
            "4   Lika    19           160           45\n",
            "\n",
            "=== Statistik Deskriptif ===\n",
            "          Usia  Tinggi Badan  Berat Badan\n",
            "count   5.0000      5.000000     5.000000\n",
            "mean   27.6000    173.800000    63.800000\n",
            "std     6.0663      7.949843    10.848963\n",
            "min    19.0000    160.000000    45.000000\n",
            "25%    25.0000    175.000000    65.000000\n",
            "50%    28.0000    176.000000    67.000000\n",
            "75%    31.0000    178.000000    70.000000\n",
            "max    35.0000    180.000000    72.000000\n"
          ]
        },
        {
          "output_type": "display_data",
          "data": {
            "text/plain": [
              "<Figure size 640x480 with 1 Axes>"
            ],
            "image/png": "[encoded data removed]"
          },
          "metadata": {}
        },
        {
          "output_type": "display_data",
          "data": {
            "text/plain": [
              "<Figure size 640x480 with 1 Axes>"
            ],
            "image/png": "[encoded data removed]"
          },
          "metadata": {}
        }
      ]
    },
    {
      "cell_type": "code",
      "source": [
        "# Tugas 5\n",
        "# Import library yang dibutuhkan\n",
        "import pandas as pd\n",
        "from pyspark.sql import SparkSession\n",
        "\n",
        "# Membuat Spark session (wajib saat pakai PySpark)\n",
        "spark = SparkSession.builder.appName(\"Pandas_PySpark_Integration\").getOrCreate()\n",
        "\n",
        "# Membuat DataFrame Pandas\n",
        "data_pandas = {\n",
        "    \"Nama\": [\"Jaga\", \"Jeve\", \"Dario\", \"El\", \"Lika\"],\n",
        "    \"Usia\": [25, 35, 31, 28, 19],\n",
        "    \"Tinggi Badan\": [180, 175, 178, 176, 160],\n",
        "    \"Berat Badan\": [70, 65, 72, 67, 45]\n",
        "}\n",
        "df_pandas = pd.DataFrame(data_pandas)\n",
        "\n",
        "# Konversi DataFrame Pandas ke DataFrame PySpark\n",
        "df_spark_from_pandas = spark.createDataFrame(df_pandas)\n",
        "\n",
        "# Buat DataFrame PySpark kedua langsung di PySpark\n",
        "data_spark = [\n",
        "    (\"Jeve\", \"Pengacara\", \"Membaca\", \"Perempuan\"),\n",
        "    (\"Jaga\", \"Mekanik\", \"Gaming\", \"Laki-laki\"),\n",
        "    (\"El\", \"Dosen\", \"Traveling\", \"Perempuan\"),\n",
        "    (\"Dario\", \"Arsitek\", \"Gaming\", \"Laki-laki\"),\n",
        "    (\"Lika\", \"Mahasiswa\", \"Membaca\", \"Perempuan\")\n",
        "]\n",
        "columns = [\"Nama\", \"Pekerjaan\", \"Hobi\", \"Gender\"]\n",
        "df_spark = spark.createDataFrame(data_spark, columns)\n",
        "\n",
        "# Gabungkan DataFrame PySpark dari Pandas dengan DataFrame PySpark lain\n",
        "df_joined = df_spark_from_pandas.join(df_spark, on=\"Nama\", how=\"inner\")\n",
        "\n",
        "# Tampilkan hasil penggabungan\n",
        "print(\"=== Hasil Penggabungan ===\")\n",
        "df_joined.show()\n",
        "\n",
        "# Analisis sederhana: menghitung rata-rata usia\n",
        "print(\"\\n=== Rata-rata Usia ===\")\n",
        "df_joined.selectExpr(\"avg(Usia) as Rata_rata_Usia\").show()\n"
      ],
      "metadata": {
        "colab": {
          "base_uri": "https://localhost:8080/"
        },
        "id": "P63Qd_oa8SHO",
        "outputId": "37a92771-1109-40a0-85f5-e50a4a7116cb"
      },
      "execution_count": 62,
      "outputs": [
        {
          "output_type": "stream",
          "name": "stdout",
          "text": [
            "=== Hasil Penggabungan ===\n",
            "+-----+----+------------+-----------+---------+---------+---------+\n",
            "| Nama|Usia|Tinggi Badan|Berat Badan|Pekerjaan|     Hobi|   Gender|\n",
            "+-----+----+------------+-----------+---------+---------+---------+\n",
            "|Dario|  31|         178|         72|  Arsitek|   Gaming|Laki-laki|\n",
            "|   El|  28|         176|         67|    Dosen|Traveling|Perempuan|\n",
            "| Jaga|  25|         180|         70|  Mekanik|   Gaming|Laki-laki|\n",
            "| Jeve|  35|         175|         65|Pengacara|  Membaca|Perempuan|\n",
            "| Lika|  19|         160|         45|Mahasiswa|  Membaca|Perempuan|\n",
            "+-----+----+------------+-----------+---------+---------+---------+\n",
            "\n",
            "\n",
            "=== Rata-rata Usia ===\n",
            "+--------------+\n",
            "|Rata_rata_Usia|\n",
            "+--------------+\n",
            "|          27.6|\n",
            "+--------------+\n",
            "\n"
          ]
        }
      ]
    },
    {
      "cell_type": "code",
      "source": [
        "# Tugas 6\n",
        "# Import library\n",
        "import pandas as pd\n",
        "from pyspark.sql import SparkSession\n",
        "\n",
        "# Membuat Spark session\n",
        "spark = SparkSession.builder.appName(\"Konversi_PySpark_Pandas\").getOrCreate()\n",
        "\n",
        "# 1. Membuat DataFrame Pandas\n",
        "data_pandas = {\n",
        "    \"Nama\": [\"Jaga\", \"Jeve\", \"Dario\", \"El\", \"Lika\"],\n",
        "    \"Usia\": [25, 35, 31, 28, 19]\n",
        "}\n",
        "df_pandas = pd.DataFrame(data_pandas)\n",
        "\n",
        "# 2. Konversi dari Pandas ke PySpark\n",
        "df_spark_from_pandas = spark.createDataFrame(df_pandas)\n",
        "\n",
        "# 3. Membuat DataFrame PySpark lain secara langsung (HARUS ada kolom Nama)\n",
        "data_spark = [\n",
        "    (\"Jaga\", \"Mekanik\", \"Gaming\", \"Laki-laki\"),\n",
        "    (\"Jeve\", \"Pengacara\", \"Membaca\", \"Perempuan\"),\n",
        "    (\"El\", \"Dosen\", \"Traveling\", \"Perempuan\"),\n",
        "    (\"Dario\", \"Arsitek\", \"Gaming\", \"Laki-laki\"),\n",
        "    (\"Lika\", \"Mahasiswa\", \"Membaca\", \"Perempuan\")\n",
        "]\n",
        "columns = [\"Nama\", \"Pekerjaan\", \"Hobi\", \"Gender\"]\n",
        "df_spark = spark.createDataFrame(data_spark, columns)\n",
        "\n",
        "# 4. Konversi DataFrame PySpark ke Pandas\n",
        "df_pandas_from_spark = df_spark.toPandas()\n",
        "\n",
        "# Menampilkan DataFrame hasil konversi\n",
        "print(\"=== DataFrame dari PySpark ke Pandas ===\")\n",
        "print(df_pandas_from_spark)\n",
        "\n",
        "print(\"\\n=== DataFrame dari Pandas ke PySpark ===\")\n",
        "df_spark_from_pandas.show()\n",
        "\n",
        "# 5. Gabungkan DataFrame hasil konversi (join berdasarkan Nama)\n",
        "df_joined = df_spark_from_pandas.join(df_spark, on=\"Nama\", how=\"inner\")\n",
        "print(\"\\n=== Hasil Gabungan DataFrame (Pandas + PySpark) ===\")\n",
        "df_joined.show()\n",
        "\n",
        "# 6. Hitung nilai maksimum usia\n",
        "max_usia = df_joined.agg({\"Usia\": \"max\"}).collect()[0][0]\n",
        "print(\"\\n=== Nilai Maksimum Usia ===\")\n",
        "print(max_usia)\n"
      ],
      "metadata": {
        "colab": {
          "base_uri": "https://localhost:8080/"
        },
        "id": "hd4LXUO5EXbX",
        "outputId": "e6f56831-f075-4ac8-e0b3-2c4603824143"
      },
      "execution_count": 68,
      "outputs": [
        {
          "output_type": "stream",
          "name": "stdout",
          "text": [
            "=== DataFrame dari PySpark ke Pandas ===\n",
            "    Nama  Pekerjaan       Hobi     Gender\n",
            "0   Jaga    Mekanik     Gaming  Laki-laki\n",
            "1   Jeve  Pengacara    Membaca  Perempuan\n",
            "2     El      Dosen  Traveling  Perempuan\n",
            "3  Dario    Arsitek     Gaming  Laki-laki\n",
            "4   Lika  Mahasiswa    Membaca  Perempuan\n",
            "\n",
            "=== DataFrame dari Pandas ke PySpark ===\n",
            "+-----+----+\n",
            "| Nama|Usia|\n",
            "+-----+----+\n",
            "| Jaga|  25|\n",
            "| Jeve|  35|\n",
            "|Dario|  31|\n",
            "|   El|  28|\n",
            "| Lika|  19|\n",
            "+-----+----+\n",
            "\n",
            "\n",
            "=== Hasil Gabungan DataFrame (Pandas + PySpark) ===\n",
            "+-----+----+---------+---------+---------+\n",
            "| Nama|Usia|Pekerjaan|     Hobi|   Gender|\n",
            "+-----+----+---------+---------+---------+\n",
            "|Dario|  31|  Arsitek|   Gaming|Laki-laki|\n",
            "|   El|  28|    Dosen|Traveling|Perempuan|\n",
            "| Jaga|  25|  Mekanik|   Gaming|Laki-laki|\n",
            "| Jeve|  35|Pengacara|  Membaca|Perempuan|\n",
            "| Lika|  19|Mahasiswa|  Membaca|Perempuan|\n",
            "+-----+----+---------+---------+---------+\n",
            "\n",
            "\n",
            "=== Nilai Maksimum Usia ===\n",
            "35\n"
          ]
        }
      ]
    }
  ]
}